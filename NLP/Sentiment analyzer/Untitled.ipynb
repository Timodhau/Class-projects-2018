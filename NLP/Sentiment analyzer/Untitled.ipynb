{
 "cells": [
  {
   "cell_type": "code",
   "execution_count": 7,
   "metadata": {},
   "outputs": [
    {
     "name": "stdout",
     "output_type": "stream",
     "text": [
      "1000\n",
      "1000\n"
     ]
    }
   ],
   "source": [
    "import nltk\n",
    "import numpy as np\n",
    "\n",
    "from nltk.stem import WordNetLemmatizer\n",
    "from sklearn.linear_model import LogisticRegression\n",
    "from bs4 import BeautifulSoup\n",
    "\n",
    "wordnet_lemmatizer = WordNetLemmatizer()\n",
    "\n",
    "stopwords = set(w.rstrip() for w in open('stopwords.txt'))      # The method rstrip() returns a copy of the string in which all chars have been stripped from the end of the string (default whitespace characters).\n",
    "\n",
    "positive_reviews = BeautifulSoup(open('positive.review').read(),\"lxml\")\n",
    "positive_reviews = positive_reviews.findAll('review_text')\n",
    "\n",
    "negative_reviews = BeautifulSoup(open('negative.review').read(),\"lxml\")\n",
    "negative_reviews = negative_reviews.findAll('review_text')\n",
    "\n",
    "print(len(positive_reviews))\n",
    "print(len(negative_reviews))\n",
    "\n",
    "np.random.shuffle(positive_reviews)\n",
    "# positive_reviews = positive_reviews[:len(negative_reviews)]\n",
    "\n",
    "word_index_map = {}\n",
    "current_index = 0\n",
    "\n",
    "def tokenizer(s):\n",
    "    s = s.lower()\n",
    "    tokens = nltk.tokenize.word_tokenize(s)\n",
    "    tokens = [t for t in tokens if len(t)>2]\n",
    "    tokens = [wordnet_lemmatizer.lemmatize(t) for t in tokens]\n",
    "    tokens = [t of t in tokens if t not in stopwords]\n",
    "    return tokens\n",
    "\n",
    "word_index_map = {}\n",
    "current_index = 0\n",
    "\n",
    "for review in positive_review:\n",
    "    token = tokenizer()\n",
    "    \n",
    "\n",
    "\n",
    "\n",
    "\n"
   ]
  },
  {
   "cell_type": "code",
   "execution_count": null,
   "metadata": {},
   "outputs": [],
   "source": []
  }
 ],
 "metadata": {
  "kernelspec": {
   "display_name": "Python 3",
   "language": "python",
   "name": "python3"
  },
  "language_info": {
   "codemirror_mode": {
    "name": "ipython",
    "version": 3
   },
   "file_extension": ".py",
   "mimetype": "text/x-python",
   "name": "python",
   "nbconvert_exporter": "python",
   "pygments_lexer": "ipython3",
   "version": "3.6.1"
  }
 },
 "nbformat": 4,
 "nbformat_minor": 2
}
