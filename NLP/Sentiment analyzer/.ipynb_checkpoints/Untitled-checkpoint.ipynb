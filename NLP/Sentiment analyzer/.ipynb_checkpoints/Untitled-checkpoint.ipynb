{
 "metadata": {
  "kernelspec": {
   "display_name": "Python 3",
   "language": "python",
   "name": "python3"
  },
  "language_info": {
   "codemirror_mode": {
    "name": "ipython",
    "version": 3
   },
   "file_extension": ".py",
   "mimetype": "text/x-python",
   "name": "python",
   "nbconvert_exporter": "python",
   "pygments_lexer": "ipython3",
   "version": "3.6.1"
  },
  "name": "",
  "signature": "sha256:dd97dbab1dbfea2f08103fecf5b75b9881177b5250e06c9353c9607aa784e58c"
 },
 "nbformat": 3,
 "nbformat_minor": 0,
 "worksheets": [
  {
   "cells": [
    {
     "cell_type": "code",
     "collapsed": false,
     "input": [
      "import nltk\n",
      "import numpy as np\n",
      "\n",
      "from nltk.stem import WordNetLemmatizer\n",
      "from sklearn.linear_model import LogisticRegression\n",
      "from bs4 import BeautifulSoup\n",
      "\n",
      "wordnet_lemmatizer = WordNetLemmatizer()\n",
      "\n",
      "stopwords = set(w.rstrip() for w in open('stopwords.txt'))      # The method rstrip() returns a copy of the string in which all chars have been stripped from the end of the string (default whitespace characters).\n",
      "\n",
      "positive_reviews = BeautifulSoup(open('positive.review').read(),\"lxml\")\n",
      "positive_reviews = positive_reviews.findAll('review_text')\n",
      "\n",
      "negative_reviews = BeautifulSoup(open('negative.review').read(),\"lxml\")\n",
      "negative_reviews = negative_reviews.findAll('review_text')\n",
      "\n",
      "\n",
      "np.random.shuffle(positive_reviews)\n",
      "# positive_reviews = positive_reviews[:len(negative_reviews)]\n",
      "\n",
      "word_index_map = {}\n",
      "current_index = 0\n",
      "\n",
      "def tokenizer(s):\n",
      "    s = s.lower()\n",
      "    tokens = nltk.tokenize.word_tokenize(s)\n",
      "    tokens = [t for t in tokens if len(t)>2]\n",
      "    tokens = [wordnet_lemmatizer.lemmatize(t) for t in tokens]\n",
      "    tokens = [t for t in tokens if t not in stopwords]\n",
      "    return tokens\n",
      "\n",
      "positive_tokenized = []\n",
      "negative_tokenized = []\n",
      "\n",
      "word_index_map = {}\n",
      "current_index = 0\n",
      "\n",
      "for review in positive_reviews:             # take entire review one per one\n",
      "    tokens = tokenizer(review.text)       # take every word (token) of this review\n",
      "    positive_tokenized.append(tokens)\n",
      "    for token in tokens:\n",
      "        if token not in word_index_map:            # add the FIRST index for every different words in word_index_map\n",
      "            #print(word_index_map)\n",
      "            word_index_map[token] = current_index  # key token = index of the word\n",
      "            current_index += 1\n",
      "\n",
      "for review in negative_reviews:\n",
      "    tokens = tokenizer(review.text)\n",
      "    negative_tokenized.append(tokens)\n",
      "    for token in tokens:\n",
      "        if token not in word_index_map:\n",
      "            word_index_map[token] = current_index\n",
      "            current_index += 1\n",
      "            \n",
      "#token to vector\n",
      "\n",
      "def tokens_to_vector(tokens, label):          #ici comme on loop sur les mots d'une review on ajoute chaque mot similaire rencontr\u00e9s \u00e0 un m\u00eame index du tableau\n",
      "    x = np.zeros(len(word_index_map) +1)\n",
      "    for t in tokens:                  # for every word in each reviews\n",
      "        i = word_index_map[t]   # get the index of this token \n",
      "        x[i] += 1               # add one at this index\n",
      "    x = x/ x.sum()  \n",
      "    x[-1] = label\n",
      "    return x\n",
      "    \n",
      "N = len(positive_tokenized) + len(negative_tokenized)\n",
      "\n",
      "data = np.zeros((N,len(word_index_map)+1))\n",
      "i = 0\n",
      "\n",
      "for tokens in positive_tokenized:         \n",
      "    xy = tokens_to_vector(tokens, 1)\n",
      "    data[i,:] = xy\n",
      "    i += 1\n",
      "    \n",
      "\n",
      "for tokens in negative_tokenized:\n",
      "    xy = tokens_to_vector(tokens, 0)\n",
      "    data[i,:] = xy\n",
      "    i += 1\n",
      "    \n",
      "print(data)\n",
      "    \n",
      "\n",
      "\n",
      "\n"
     ],
     "language": "python",
     "metadata": {},
     "outputs": [
      {
       "output_type": "stream",
       "stream": "stdout",
       "text": [
        "1000\n",
        "1000\n",
        "[[ 0.04347826  0.04347826  0.04347826 ...,  0.          0.          1.        ]\n",
        " [ 0.0257732   0.03092784  0.         ...,  0.          0.          1.        ]\n",
        " [ 0.02702703  0.          0.         ...,  0.          0.          1.        ]\n",
        " ..., \n",
        " [ 0.          0.          0.         ...,  0.          0.          0.        ]\n",
        " [ 0.          0.          0.         ...,  0.04545455  0.          0.        ]\n",
        " [ 0.05769231  0.          0.         ...,  0.          0.01923077  0.        ]]"
       ]
      },
      {
       "output_type": "stream",
       "stream": "stdout",
       "text": [
        "\n"
       ]
      }
     ],
     "prompt_number": 32
    },
    {
     "cell_type": "code",
     "collapsed": false,
     "input": [
      "#word_index_map = {}\n",
      "#current_index = 0\n",
      "\n",
      "#for token in [\"coucouc\",\"hello\",\"hello\",'chalut','chalut']:\n",
      "#    if token not in word_index_map:\n",
      "#        word_index_map[token] = current_index\n",
      "#        current_index += 1\n",
      "\n",
      "#print(word_index_map)\n",
      "\n",
      "#x = tokens_to_vector([\"coucouc\",\"hello\",\"hello\",'chalut',\"chalut\"], 1)\n",
      "#print(x)\n",
      "\n",
      "#affiche : \n",
      "#{'coucouc': 0, 'chalut': 2, 'hello': 1}\n",
      "#[ 0.2  0.4  0.4  1. ]"
     ],
     "language": "python",
     "metadata": {},
     "outputs": [
      {
       "output_type": "stream",
       "stream": "stdout",
       "text": [
        "{'coucouc': 0, 'chalut': 2, 'hello': 1}\n",
        "[ 0.2  0.4  0.4  1. ]\n"
       ]
      }
     ],
     "prompt_number": 31
    },
    {
     "cell_type": "code",
     "collapsed": false,
     "input": [
      "np.random.shuffle(data)\n",
      "\n",
      "X = data[:,:-1]\n",
      "Y = data[:,-1]\n",
      "Xtrain = X[:-100,]\n",
      "Ytrain = Y[:-100,]\n",
      "Xtest = X[-100:,]\n",
      "Ytest = Y[-100:,]\n",
      "\n",
      "model = LogisticRegression()\n",
      "model.fit(Xtrain, Ytrain)\n",
      "\n",
      "print(\"Classification rate:\", model.score(Xtest, Ytest))"
     ],
     "language": "python",
     "metadata": {},
     "outputs": [
      {
       "output_type": "stream",
       "stream": "stdout",
       "text": [
        "('Classification rate:', 0.69999999999999996)\n"
       ]
      }
     ],
     "prompt_number": 36
    },
    {
     "cell_type": "code",
     "collapsed": false,
     "input": [
      "threshold = 0.5\n",
      "for word, index in word_index_map.iteritems():\n",
      "    weight = model.coef_[0][index]\n",
      "    if weight > threshold or weight < -threshold :\n",
      "        print(word, weight) "
     ],
     "language": "python",
     "metadata": {},
     "outputs": [
      {
       "output_type": "stream",
       "stream": "stdout",
       "text": [
        "(u'fit', 0.52616760421534858)\n",
        "(u'easy', 1.88040872491156)\n",
        "(u'happy', 0.72379919340671461)\n",
        "(u'love', 1.22787936679735)\n",
        "(u'cable', 0.71913032508421304)\n",
        "(u'paper', 0.62547335161430195)\n",
        "(u'video', 0.57506526180470807)\n",
        "(u'perfect', 1.0538390309469217)\n",
        "(u'highly', 1.0011905551441509)\n",
        "(u'space', 0.61312299343128207)\n",
        "(u'price', 2.6943486198861195)\n",
        "(u'using', 0.62487239669407901)\n",
        "(u'lot', 0.74634351725676107)\n",
        "(u'you', 0.95069057291349834)\n",
        "(u'pretty', 0.6929474966745699)\n",
        "(u'look', 0.54625246734898503)\n",
        "(u'quality', 1.4545476068922258)\n",
        "(u'speaker', 0.88624829878010181)\n",
        "(u'recommend', 0.66075208818852216)\n",
        "(u'little', 0.81707421069411734)\n",
        "(u'sound', 1.0107110365454135)\n",
        "(u\"'ve\", 0.75639965609684412)\n",
        "(u'bit', 0.50514420510051505)\n",
        "(u'comfortable', 0.63801984449769633)\n",
        "(u'value', 0.5441003580218442)\n",
        "(u'excellent', 1.4009819842087843)\n",
        "(u'expected', 0.56621434586604602)\n",
        "(u'laptop', 0.51018176951902661)\n",
        "(u'memory', 1.0180828095056715)\n",
        "(u'fast', 0.89025902175981575)\n",
        "(u'home', 0.52619811740640543)\n",
        "(u'ha', 0.70100966535990228)\n"
       ]
      }
     ],
     "prompt_number": 37
    },
    {
     "cell_type": "code",
     "collapsed": false,
     "input": [],
     "language": "python",
     "metadata": {},
     "outputs": []
    }
   ],
   "metadata": {}
  }
 ]
}